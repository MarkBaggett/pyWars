{
  "cells": [
    {
      "attachments": {},
      "cell_type": "markdown",
      "metadata": {
        "id": "Y7LbGkJgPwQI"
      },
      "source": [
        "The content of the following cell install the pywars client into this notebook. It must be executed once during the lifetime of a notebook's kernel execution.  If you save and reopen the notebook you will need to execute again, but otherwise you only need to run it once."
      ]
    },
    {
      "cell_type": "code",
      "execution_count": null,
      "metadata": {
        "id": "WCYPuBQal45D"
      },
      "outputs": [],
      "source": [
        "#Import and/or install the pywars client\n",
        "!git clone --branch version5 https://github.com/markbaggett/pyWars\n",
        "!pip install ./pyWars\n",
        "\n",
        "#Mount the google drive in colab\n",
        "from google.colab import drive\n",
        "drive.mount('/content/drive')\n"
      ]
    },
    {
      "attachments": {},
      "cell_type": "markdown",
      "metadata": {
        "id": "V9zGApf2QOZD"
      },
      "source": [
        "This next command must be run once to configure your pyWars server and to login. Before running this you must change the contents of the three variables below to reflect your account information provided by SANS. This will generate an error if your account does not exist prior to running this cell."
      ]
    },
    {
      "cell_type": "code",
      "execution_count": null,
      "metadata": {
        "id": "zeiJWbS0N5Ih"
      },
      "outputs": [],
      "source": [
        "#Set the following three variables and execute this cell\n",
        "HOSTNAME = \"Host Name Here\"\n",
        "USERNAME = \"your login here\"\n",
        "PASSWORD = \"your password here\"\n",
        "\n",
        "#This will create your pywars client object and store in the variable d\n",
        "import pywars\n",
        "d = pywars.Client(f\"https://{HOSTNAME}:10000\")\n",
        "d.file_location=\"/content/drive/MyDrive\"\n",
        "d.login(USERNAME,PASSWORD)"
      ]
    },
    {
      "cell_type": "code",
      "execution_count": null,
      "metadata": {},
      "outputs": [],
      "source": [
        "#If the previous cell printed \"SUCCESS\" then you should delete this cell and not use it.\n",
        "#This requires a registration code that would be given to you by the instructor in the room.\n",
        "\n",
        "REGISTRATION = \"CODE HERE\"\n",
        "d.new_acct(HOSTNAME, PASSWORD, REGISTRATION)"
      ]
    },
    {
      "attachments": {},
      "cell_type": "markdown",
      "metadata": {},
      "source": [
        "You can run this cell to see all of the available labs"
      ]
    },
    {
      "cell_type": "code",
      "execution_count": null,
      "metadata": {
        "id": "Iea43FE9Q8BN"
      },
      "outputs": [],
      "source": [
        "#This cell will show you the names of all of the labs.\n",
        "\n",
        "print(\"Lab Numbers and Names\")\n",
        "for each_num, each_name in enumerate(d.names):\n",
        "        print(f\"#{each_num} {each_name}\")"
      ]
    },
    {
      "attachments": {},
      "cell_type": "markdown",
      "metadata": {},
      "source": [
        "You can check your score with `d.score()`.  If you pass `True` then it will show everyone's score rather than just your score."
      ]
    },
    {
      "cell_type": "code",
      "execution_count": null,
      "metadata": {},
      "outputs": [],
      "source": [
        "#Here is an example of checking the score\n",
        " \n",
        "d.score(True)"
      ]
    },
    {
      "attachments": {},
      "cell_type": "markdown",
      "metadata": {},
      "source": [
        "To complete labs you will ask will the `d.question()` and pass it a lab name to see the question. You will then call `d.data()` and pass it a lab name to get the data you must manipulate as described by the question. Finally you will either call `d.answer()` and pass the manipulated data or `d.solution()` and pass the path to your solution depending upon question."
      ]
    },
    {
      "cell_type": "code",
      "execution_count": null,
      "metadata": {},
      "outputs": [],
      "source": [
        "#Here is an example of retrieving a question. Change \"LAB NAME HERE\" to one of the labs.\n",
        "d.question(\"LAB NAME HERE\")"
      ]
    },
    {
      "cell_type": "code",
      "execution_count": null,
      "metadata": {},
      "outputs": [],
      "source": [
        "#Here is an example of calculating and submitting an answer. \n",
        "#Change \"LAB NAME HERE\" to match the question and add code to manipulate the data\n",
        "\n",
        "my_data = d.data(\"LAB NAME HERE\")\n",
        "answer = my_data\n",
        "d.answer(answer)"
      ]
    }
  ],
  "metadata": {
    "colab": {
      "provenance": []
    },
    "kernelspec": {
      "display_name": "Python 3",
      "name": "python3"
    },
    "language_info": {
      "name": "python"
    }
  },
  "nbformat": 4,
  "nbformat_minor": 0
}
